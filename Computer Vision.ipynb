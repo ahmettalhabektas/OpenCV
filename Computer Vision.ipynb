{
 "cells": [
  {
   "cell_type": "markdown",
   "id": "27d035f8",
   "metadata": {},
   "source": [
    "## Image 1"
   ]
  },
  {
   "cell_type": "code",
   "execution_count": 1,
   "id": "08376dab",
   "metadata": {},
   "outputs": [],
   "source": [
    "#!pip install opencv-python"
   ]
  },
  {
   "cell_type": "code",
   "execution_count": 2,
   "id": "92dbc196",
   "metadata": {},
   "outputs": [],
   "source": [
    "import cv2\n",
    "import numpy as np\n",
    "#resimler bir matrixdir\n",
    "input = cv2.imread(\"input.jpg\")\n",
    "#input değişkenine resimi okuduk\n",
    "cv2.imshow(\"Hello world\",input)\n",
    "#resimi açtık\n",
    "cv2.waitKey()\n",
    "#kapatmak için dokunulması gereken tuşu belirledik \n",
    "cv2.destroyAllWindows()\n",
    "#butun pencereleri kapattık"
   ]
  },
  {
   "cell_type": "markdown",
   "id": "86751281",
   "metadata": {},
   "source": [
    "# Image 2"
   ]
  },
  {
   "cell_type": "code",
   "execution_count": 2,
   "id": "f4e31a11",
   "metadata": {},
   "outputs": [],
   "source": [
    "import numpy as np"
   ]
  },
  {
   "cell_type": "code",
   "execution_count": 3,
   "id": "ae108d76",
   "metadata": {},
   "outputs": [
    {
     "name": "stdout",
     "output_type": "stream",
     "text": [
      "(830, 1245, 3)\n"
     ]
    }
   ],
   "source": [
    "input.shape\n",
    "print(input.shape)\n",
    "#gördüğünüz üzere 3 boyutlu bir matrix"
   ]
  },
  {
   "cell_type": "code",
   "execution_count": 4,
   "id": "73a1871e",
   "metadata": {},
   "outputs": [
    {
     "name": "stdout",
     "output_type": "stream",
     "text": [
      "Height of image 830 pixels\n",
      "Width of image 1245 pixels\n"
     ]
    }
   ],
   "source": [
    "print(\"Height of image\",int(input.shape[0]),\"pixels\")\n",
    "print(\"Width of image\",int(input.shape[1]),\"pixels\")"
   ]
  },
  {
   "cell_type": "markdown",
   "id": "a57bd380",
   "metadata": {},
   "source": [
    "# Image 3"
   ]
  },
  {
   "cell_type": "code",
   "execution_count": 5,
   "id": "8a4a067e",
   "metadata": {},
   "outputs": [
    {
     "name": "stdout",
     "output_type": "stream",
     "text": [
      "[[0. 1. 0. 1. 0. 1. 0. 1. 0.]\n",
      " [1. 0. 1. 0. 1. 0. 1. 0. 1.]\n",
      " [0. 1. 0. 1. 0. 1. 0. 1. 0.]\n",
      " [1. 0. 1. 0. 1. 0. 1. 0. 1.]\n",
      " [0. 1. 0. 1. 0. 1. 0. 1. 0.]\n",
      " [1. 0. 1. 0. 1. 0. 1. 0. 1.]\n",
      " [0. 1. 0. 1. 0. 1. 0. 1. 0.]\n",
      " [1. 0. 1. 0. 1. 0. 1. 0. 1.]\n",
      " [0. 1. 0. 1. 0. 1. 0. 1. 0.]]\n"
     ]
    }
   ],
   "source": [
    "%matplotlib inline\n",
    "%load_ext autoreload\n",
    "%autoreload \n",
    "import numpy as np\n",
    "checkBoard=np.zeros((9,9))\n",
    "checkBoard[0::2,1::2]=1\n",
    "checkBoard[1::2,0::2]=1\n",
    "print(checkBoard)"
   ]
  },
  {
   "cell_type": "code",
   "execution_count": 6,
   "id": "33336adb",
   "metadata": {},
   "outputs": [
    {
     "data": {
      "image/png": "[encoded data removed]",
      "text/plain": [
       "<Figure size 432x288 with 1 Axes>"
      ]
     },
     "metadata": {
      "needs_background": "light"
     },
     "output_type": "display_data"
    }
   ],
   "source": [
    "import matplotlib.pyplot as plt\n",
    "import matplotlib.image as mpimg\n",
    "plt.imshow(checkBoard,cmap=\"winter_r\",interpolation=\"nearest\")\n",
    "#interpolation=\"nearest\" ,, yani % 100 siyah yapamasn bile pnu %100 siyah yap\n",
    "plt.show()\n",
    "\n",
    "# 'Accent', 'Accent_r', 'Blues', 'Blues_r', 'BrBG', 'BrBG_r', 'BuGn', 'BuGn_r',\n",
    "# 'BuPu', 'BuPu_r', 'CMRmap', 'CMRmap_r', 'Dark2', 'Dark2_r', 'GnBu', 'GnBu_r', \n",
    "# 'Greens', 'Greens_r', 'Greys', 'Greys_r', 'OrRd', 'OrRd_r', 'Oranges', 'Oranges_r', \n",
    "# 'PRGn', 'PRGn_r', 'Paired', 'Paired_r', 'Pastel1', 'Pastel1_r', 'Pastel2', \n",
    "# 'Pastel2_r', 'PiYG', 'PiYG_r', 'PuBu', 'PuBuGn', 'PuBuGn_r', 'PuBu_r', 'PuOr',\n",
    "# 'PuOr_r', 'PuRd', 'PuRd_r', 'Purples', 'Purples_r', 'RdBu', 'RdBu_r', 'RdGy', \n",
    "# 'RdGy_r', 'RdPu', 'RdPu_r', 'RdYlBu', 'RdYlBu_r', 'RdYlGn', 'RdYlGn_r', 'Reds', \n",
    "# 'Reds_r', 'Set1', 'Set1_r', 'Set2', 'Set2_r', 'Set3', 'Set3_r', 'Spectral', 'Spectral_r',\n",
    "# 'Wistia', 'Wistia_r', 'YlGn', 'YlGnBu', 'YlGnBu_r', 'YlGn_r', 'YlOrBr', 'YlOrBr_r',\n",
    "# 'YlOrRd', 'YlOrRd_r', 'afmhot', 'afmhot_r', 'autumn', 'autumn_r', 'binary', 'binary_r',\n",
    "# 'bone', 'bone_r', 'brg', 'brg_r', 'bwr', 'bwr_r', 'cividis', 'cividis_r', 'cool', \n",
    "# 'cool_r', 'coolwarm', 'coolwarm_r', 'copper', 'copper_r', 'cubehelix', 'cubehelix_r',\n",
    "# 'flag', 'flag_r', 'gist_earth', 'gist_earth_r', 'gist_gray', 'gist_gray_r', 'gist_heat',\n",
    "# 'gist_heat_r', 'gist_ncar', 'gist_ncar_r', 'gist_rainbow', 'gist_rainbow_r', 'gist_stern',\n",
    "# 'gist_stern_r', 'gist_yarg', 'gist_yarg_r', 'gnuplot', 'gnuplot2', 'gnuplot2_r', 'gnuplot_r',\n",
    "# 'gray', 'gray_r', 'hot', 'hot_r', 'hsv', 'hsv_r', 'inferno', 'inferno_r', 'jet', 'jet_r',\n",
    "# 'magma', 'magma_r', 'nipy_spectral', 'nipy_spectral_r', 'ocean', 'ocean_r', 'pink', 'pink_r',\n",
    "# 'plasma', 'plasma_r', 'prism', 'prism_r', 'rainbow', 'rainbow_r', 'seismic', 'seismic_r',\n",
    "# 'spring', 'spring_r', 'summer', 'summer_r', 'tab10', 'tab10_r', 'tab20', 'tab20_r', 'tab20b',\n",
    "# 'tab20b_r', 'tab20c', 'tab20c_r', 'terrain', 'terrain_r', 'turbo', 'turbo_r', 'twilight', \n",
    "# 'twilight_r', 'twilight_shifted', 'twilight_shifted_r', 'viridis', 'viridis_r', 'winter', 'winter_r'\n",
    "\n"
   ]
  },
  {
   "cell_type": "code",
   "execution_count": 7,
   "id": "88241771",
   "metadata": {},
   "outputs": [
    {
     "name": "stdout",
     "output_type": "stream",
     "text": [
      "[[0.28888887 0.32941177 0.38039216 0.50326794 0.47973856 0.50457519\n",
      "  0.55947715 0.54901963 0.56732029 0.57516342 0.59738559 0.61307186\n",
      "  0.59607846 0.56078434 0.54248363 0.49281046 0.45359477 0.44183007\n",
      "  0.2522876  0.23529412 0.4261438  0.49673203 0.72418302 0.69934636\n",
      "  0.43529412]\n",
      " [0.29411766 0.33333334 0.44052288 0.52026147 0.49934641 0.53464049\n",
      "  0.55424833 0.59869283 0.6156863  0.61960787 0.620915   0.63660127\n",
      "  0.62875813 0.6326797  0.59215689 0.52418303 0.47581699 0.44705883\n",
      "  0.34640524 0.32287583 0.33202612 0.59738559 0.81830066 0.77777773\n",
      "  0.27843139]\n",
      " [0.35294119 0.41568628 0.42745098 0.48104575 0.50457519 0.52287579\n",
      "  0.53594774 0.63529414 0.65359479 0.620915   0.61830068 0.64444441\n",
      "  0.61830068 0.61830068 0.60000002 0.53856206 0.46405229 0.43137255\n",
      "  0.37254903 0.37908494 0.29411766 0.50065356 0.60915029 0.53856206\n",
      "  0.36732024]\n",
      " [0.41176471 0.43006536 0.49542484 0.48627451 0.50980395 0.52679735\n",
      "  0.53071892 0.60915029 0.57516342 0.59869283 0.63006538 0.64705884\n",
      "  0.63921571 0.63398695 0.59738559 0.54248363 0.46013072 0.41699347\n",
      "  0.39607844 0.30718955 0.26274511 0.48627451 0.26143789 0.1856209\n",
      "  0.19477125]\n",
      " [0.43137255 0.49673203 0.47712418 0.46797386 0.48627451 0.53071892\n",
      "  0.5411765  0.60130715 0.63660127 0.61830068 0.59869283 0.61437911\n",
      "  0.63006538 0.61699343 0.5581699  0.5281046  0.47973856 0.45228758\n",
      "  0.4130719  0.3594771  0.23921569 0.36993465 0.1856209  0.16732027\n",
      "  0.19084968]\n",
      " [0.48104575 0.47320262 0.39869279 0.43921569 0.47973856 0.54248363\n",
      "  0.55032676 0.58954245 0.62614381 0.61960787 0.61960787 0.62222224\n",
      "  0.63137257 0.620915   0.57908499 0.54771245 0.49542484 0.43137255\n",
      "  0.44052288 0.27712417 0.22222222 0.41437906 0.1751634  0.1751634\n",
      "  0.19084968]\n",
      " [0.42483661 0.42222223 0.35816994 0.46797386 0.50326794 0.51503265\n",
      "  0.43529412 0.49019608 0.53725493 0.49803922 0.47189543 0.55947715\n",
      "  0.56209147 0.55424833 0.42091504 0.36862746 0.28627452 0.29934642\n",
      "  0.34640524 0.28627452 0.32549021 0.31895426 0.18431373 0.18431373\n",
      "  0.20261438]\n",
      " [0.36862746 0.31764707 0.4627451  0.49803922 0.48235294 0.4379085\n",
      "  0.43921569 0.38039216 0.3019608  0.31111112 0.40915033 0.44836602\n",
      "  0.49542484 0.47189543 0.33725491 0.28104573 0.41437906 0.41437906\n",
      "  0.35032681 0.43267974 0.37385622 0.31764707 0.17908497 0.19869281\n",
      "  0.19869281]\n",
      " [0.20784314 0.29411766 0.50718951 0.48104575 0.47450981 0.45228758\n",
      "  0.47189543 0.42745098 0.28235295 0.27189544 0.28888887 0.45751634\n",
      "  0.61045754 0.34509805 0.25098041 0.17908497 0.16078432 0.2\n",
      "  0.43006536 0.47712418 0.29934642 0.59346402 0.41568628 0.31503269\n",
      "  0.1738562 ]\n",
      " [0.26274511 0.27973858 0.46928105 0.50718951 0.56601304 0.49803922\n",
      "  0.4509804  0.55163401 0.31111112 0.52287579 0.52549022 0.52026147\n",
      "  0.59346402 0.42091504 0.43921569 0.50065356 0.46535948 0.5281046\n",
      "  0.47320262 0.45228758 0.21699347 0.81045753 0.74640518 0.35424837\n",
      "  0.15294118]\n",
      " [0.30326799 0.4130719  0.45882353 0.50588238 0.58562088 0.57124186\n",
      "  0.57516342 0.59607846 0.53986931 0.5411765  0.58300656 0.48366013\n",
      "  0.55555558 0.44444445 0.47320262 0.52026147 0.52026147 0.49019608\n",
      "  0.53856206 0.47058824 0.41045749 0.80130714 0.71241832 0.33464053\n",
      "  0.1633987 ]\n",
      " [0.42091504 0.40522876 0.43529412 0.49150327 0.55555558 0.60130715\n",
      "  0.61045754 0.63006538 0.61176473 0.65620911 0.5281046  0.53333336\n",
      "  0.56601304 0.48496732 0.46143791 0.5281046  0.56601304 0.55555558\n",
      "  0.48235294 0.43921569 0.47581699 0.50326794 0.35555553 0.28888887\n",
      "  0.20130718]\n",
      " [0.53725493 0.43137255 0.4627451  0.47843137 0.50065356 0.57124186\n",
      "  0.64444441 0.627451   0.64836597 0.64052284 0.50457519 0.5411765\n",
      "  0.63660127 0.55555558 0.44967321 0.48496732 0.61437911 0.55686277\n",
      "  0.44183007 0.42091504 0.42483661 0.19738561 0.21568628 0.22875817\n",
      "  0.22875817]\n",
      " [0.42483661 0.44313726 0.44444445 0.45620915 0.49019608 0.50588238\n",
      "  0.57908499 0.60130715 0.6026144  0.53071892 0.54509807 0.55163401\n",
      "  0.56078434 0.61176473 0.43398693 0.41437906 0.48235294 0.49803922\n",
      "  0.42091504 0.41045749 0.38954249 0.19084968 0.21960784 0.22614379\n",
      "  0.23529412]\n",
      " [0.46797386 0.43529412 0.45228758 0.46797386 0.50457519 0.4875817\n",
      "  0.52026147 0.53594774 0.50196081 0.47320262 0.39477122 0.29803923\n",
      "  0.49411765 0.49281046 0.26797387 0.40784314 0.38039216 0.44705883\n",
      "  0.38954249 0.39869279 0.20261438 0.18300654 0.20915033 0.22875817\n",
      "  0.23529412]\n",
      " [0.4261438  0.39607844 0.44575164 0.46143791 0.51241833 0.47450981\n",
      "  0.49019608 0.49673203 0.4509804  0.5581699  0.58039218 0.54901963\n",
      "  0.40653592 0.40261436 0.41960785 0.4261438  0.35686275 0.3764706\n",
      "  0.37516338 0.4130719  0.1751634  0.17777777 0.2130719  0.21699347\n",
      "  0.23137255]\n",
      " [0.37124181 0.37516338 0.41437906 0.44705883 0.49673203 0.49019608\n",
      "  0.50326794 0.51503265 0.50718951 0.50980395 0.58562088 0.60392159\n",
      "  0.55032676 0.55163401 0.47320262 0.41045749 0.37254903 0.4013072\n",
      "  0.4130719  0.36732024 0.4130719  0.30718955 0.18692811 0.30849671\n",
      "  0.22614379]\n",
      " [0.13986929 0.08888888 0.38562092 0.44183007 0.46535948 0.52287579\n",
      "  0.53594774 0.50588238 0.48104575 0.46928105 0.49019608 0.54771245\n",
      "  0.53725493 0.54901963 0.46666667 0.39084965 0.3764706  0.4261438\n",
      "  0.37908494 0.20392157 0.08627451 0.09019608 0.1124183  0.0627451\n",
      "  0.22745098]\n",
      " [0.10980392 0.09934641 0.32810456 0.41960785 0.4627451  0.50065356\n",
      "  0.5464052  0.50326794 0.48104575 0.36601308 0.16470589 0.09019608\n",
      "  0.11503268 0.10980392 0.06535947 0.2496732  0.41960785 0.43398693\n",
      "  0.37908494 0.08627451 0.09281045 0.06797386 0.075817   0.03660131\n",
      "  0.06797386]\n",
      " [0.09673202 0.44313726 0.49934641 0.40000001 0.46535948 0.47581699\n",
      "  0.51111108 0.53333336 0.4875817  0.15163399 0.13202615 0.16732027\n",
      "  0.21437909 0.21176471 0.16601306 0.32287583 0.39477122 0.43529412\n",
      "  0.37777779 0.09019608 0.07843138 0.0875817  0.06797386 0.04836601\n",
      "  0.075817  ]\n",
      " [0.10588235 0.44967321 0.67843139 0.35686275 0.41437906 0.42745098\n",
      "  0.49542484 0.49542484 0.52026147 0.56862748 0.56862748 0.44967321\n",
      "  0.44183007 0.52418303 0.43137255 0.40784314 0.49934641 0.40522876\n",
      "  0.15163399 0.10196079 0.07189543 0.06797386 0.07189543 0.06013072\n",
      "  0.07189543]\n",
      " [0.10326798 0.26013073 0.84444445 0.37385622 0.37124181 0.41176471\n",
      "  0.46797386 0.5411765  0.54509807 0.51895422 0.5281046  0.55163401\n",
      "  0.53986931 0.55163401 0.41176471 0.41437906 0.47712418 0.35816994\n",
      "  0.07712418 0.0875817  0.07843138 0.06013072 0.07189543 0.07189543\n",
      "  0.06797386]\n",
      " [0.10980392 0.10588235 0.80653596 0.77516341 0.36732024 0.39346406\n",
      "  0.42222223 0.53202617 0.57908499 0.52156866 0.47973856 0.44444445\n",
      "  0.39477122 0.38954249 0.35816994 0.42745098 0.43137255 0.14509805\n",
      "  0.08366013 0.08627451 0.075817   0.06013072 0.05620915 0.07189543\n",
      "  0.075817  ]\n",
      " [0.10588235 0.11372549 0.81307185 0.80000001 0.7647059  0.38039216\n",
      "  0.39215687 0.46405229 0.58300656 0.56732029 0.53986931 0.50849676\n",
      "  0.49673203 0.46143791 0.42745098 0.48235294 0.30980393 0.0875817\n",
      "  0.07320261 0.08366013 0.0875817  0.06405229 0.04444444 0.06013072\n",
      "  0.07189543]\n",
      " [0.09150327 0.0875817  0.66405225 0.84052289 0.8143791  0.82222223\n",
      "  0.37777779 0.36862746 0.52679735 0.60130715 0.59477127 0.57385617\n",
      "  0.55686277 0.54248363 0.51764709 0.45620915 0.16732027 0.08235294\n",
      "  0.07058824 0.06797386 0.07450981 0.06013072 0.05620915 0.06405229\n",
      "  0.06797386]]\n"
     ]
    }
   ],
   "source": [
    "from skimage import data\n",
    "image_of_a_bush=data.lfw_subset()\n",
    "#subset =yani kocaman resmin bir kısmını almak içindir\n",
    "image_of_a_bush=image_of_a_bush[0,:,:]\n",
    "print(image_of_a_bush)\n",
    "#resimin sayıya dökümü"
   ]
  },
  {
   "cell_type": "code",
   "execution_count": 8,
   "id": "d9e88e1c",
   "metadata": {},
   "outputs": [
    {
     "data": {
      "text/plain": [
       "<function matplotlib.pyplot.show(close=None, block=None)>"
      ]
     },
     "execution_count": 8,
     "metadata": {},
     "output_type": "execute_result"
    },
    {
     "data": {
      "image/png": "[encoded data removed]",
      "text/plain": [
       "<Figure size 72x72 with 1 Axes>"
      ]
     },
     "metadata": {},
     "output_type": "display_data"
    }
   ],
   "source": [
    "plt.figure(figsize=(1,1))\n",
    "plt.imshow(image_of_a_bush,cmap=\"gray\",interpolation=\"nearest\")\n",
    "#resimin çıktısını almak için imshow kullanılıyor\n",
    "#interpolation=\"nearest\" kendine en yakın komşu pixele benzemeye çalışıyor\n",
    "plt.xticks([])\n",
    "plt.yticks([])\n",
    "plt.show"
   ]
  },
  {
   "cell_type": "markdown",
   "id": "2afdd753",
   "metadata": {},
   "source": [
    "# Image 4"
   ]
  },
  {
   "cell_type": "code",
   "execution_count": 9,
   "id": "604e4051",
   "metadata": {},
   "outputs": [
    {
     "data": {
      "text/plain": [
       "<matplotlib.image.AxesImage at 0x18ac44249a0>"
      ]
     },
     "execution_count": 9,
     "metadata": {},
     "output_type": "execute_result"
    },
    {
     "data": {
      "image/png": "[encoded data removed]",
      "text/plain": [
       "<Figure size 432x288 with 1 Axes>"
      ]
     },
     "metadata": {},
     "output_type": "display_data"
    }
   ],
   "source": [
    "image=data.astronaut()\n",
    "plt.xticks([])\n",
    "plt.yticks([])\n",
    "#bunlar yanlarda sayı göstermesin diye\n",
    "plt.imshow(image)"
   ]
  },
  {
   "cell_type": "markdown",
   "id": "eab0b143",
   "metadata": {},
   "source": [
    "# Image 5"
   ]
  },
  {
   "cell_type": "code",
   "execution_count": 10,
   "id": "8d7684b0",
   "metadata": {},
   "outputs": [],
   "source": [
    "import cv2\n",
    "image= cv2.imread(\"input.jpg\")\n",
    "#resmi okuyoruz\n",
    "cv2.imshow(\"Original\", image)\n",
    "#resmi Original adlı kloserde yani\n",
    "#Original adlı pencerede açiyoruz\n",
    "cv2.waitKey()\n",
    "#bir harf bas manı bekliyor\n",
    "gray_image=cv2.cvtColor(image,cv2.COLOR_BGR2GRAY)\n",
    "#İmage adlı değşkenin içindeki resime \n",
    "#BGR(RGB)den Gray scale yani gri tonlama veriyoruz.\n",
    "cv2.imshow(\"Grayscale\",gray_image)\n",
    "#Grayscale isimli sayfa da ,\n",
    "#gray_image isimli değişkeni açıyoruz\n",
    "cv2.waitKey()\n",
    "#herhangi bir tuş istiyor benden\n",
    "cv2.destroyAllWindows()\n",
    "#Bütün sayfaları kapatıyor"
   ]
  },
  {
   "cell_type": "code",
   "execution_count": 11,
   "id": "3dbc7e5c",
   "metadata": {},
   "outputs": [],
   "source": [
    "img=cv2.imread(\"input.jpg\",0)\n",
    "# eğer 0 koyarsan otomatik siyah beyaz oluyor\n",
    "cv2.imshow(\"Grayscale\",img)\n",
    "cv2.waitKey()\n",
    "cv2.destroyAllWindows()"
   ]
  },
  {
   "cell_type": "markdown",
   "id": "9247d054",
   "metadata": {},
   "source": [
    "# Understanding COLOR_BGR2GRAY"
   ]
  },
  {
   "cell_type": "code",
   "execution_count": 12,
   "id": "79806867",
   "metadata": {},
   "outputs": [
    {
     "name": "stdout",
     "output_type": "stream",
     "text": [
      "12 18 31\n",
      "(830, 1245, 3)\n"
     ]
    }
   ],
   "source": [
    "import cv2\n",
    "import numpy as np\n",
    "image=cv2.imread(\"input.jpg\")\n",
    "\n",
    "B,G,R=image[0,0]\n",
    "#birinc, heaight ikinci width\n",
    "#birinici pikselin : mavi yeşil kırmızı yoğunluğu\n",
    "print(B,G,R)\n",
    "#birinci pikselin içi\n",
    "print(image.shape)\n",
    "#image genel bakış"
   ]
  },
  {
   "cell_type": "code",
   "execution_count": 13,
   "id": "d1f98b39",
   "metadata": {},
   "outputs": [
    {
     "name": "stdout",
     "output_type": "stream",
     "text": [
      "(830, 1245)\n",
      "21\n"
     ]
    }
   ],
   "source": [
    "gray_img=cv2.cvtColor(image,cv2.COLOR_BGR2GRAY)\n",
    "#resmi , tabiri caizse boyadık griye\n",
    "#3 boyutlu resmi iki boyuta imdirdik\n",
    "print(gray_img.shape)\n",
    "#resmin shape gördüüğünüz üzere iki boyoutta\n",
    "print(gray_img[0,0])\n",
    "#gördüğünğüz üzere iki boyutun bir elemanı yanı resim iki boyuta indirdik"
   ]
  },
  {
   "cell_type": "markdown",
   "id": "ffa5100b",
   "metadata": {},
   "source": [
    "# Useful color space is HSV"
   ]
  },
  {
   "cell_type": "code",
   "execution_count": 14,
   "id": "4f9e38e8",
   "metadata": {},
   "outputs": [],
   "source": [
    "\n",
    "image=cv2.imread(\"input.jpg\")\n",
    "hsv_image=cv2.cvtColor(image, cv2.COLOR_BGR2HSV)\n",
    "cv2.imshow(\"HSV image\",hsv_image)\n",
    "cv2.imshow(\"Hue chanel\",hsv_image[:,:,0])\n",
    "cv2.imshow(\"Saturation chanel\",hsv_image[:,:,1])\n",
    "\n",
    "cv2.imshow(\"Calcue chanel\",hsv_image[:,:,2])\n",
    "\n",
    "cv2.waitKey()\n",
    "cv2.destroyAllWindows()\n",
    "\n",
    "#HATA"
   ]
  },
  {
   "cell_type": "markdown",
   "id": "47641c57",
   "metadata": {},
   "source": [
    "# RGB image"
   ]
  },
  {
   "cell_type": "code",
   "execution_count": 15,
   "id": "c7f36121",
   "metadata": {},
   "outputs": [
    {
     "name": "stdout",
     "output_type": "stream",
     "text": [
      "(830, 1245)\n"
     ]
    }
   ],
   "source": [
    "image=cv2.imread(\"input.jpg\")\n",
    "\n",
    "B,G,R=cv2.split(image)\n",
    "#resmi tek tek renklerine ayırıyor\n",
    "print(B.shape)\n",
    "cv2.imshow(\"Red\",R)\n",
    "#içinde sadece kıtmızı olan renk\n",
    "cv2.imshow(\"Green\",G)\n",
    "#içinde sadece yesil olan renk\n",
    "cv2.imshow(\"Blue\",B)\n",
    "#içinde sadece mavi olan renk\n",
    "\n",
    "cv2.waitKey(0)\n",
    "cv2.destroyAllWindows()\n",
    "\n",
    "merged=cv2.merge([B,G,R])\n",
    "#3 rengi birleştirdik\n",
    "cv2.imshow(\"Merged\",merged)\n",
    "\n",
    "merged=cv2.merge([B+100,G,R+100])\n",
    "# mavi ye ve kırmızıynın tonunu artırılmış resim \n",
    "cv2.imshow(\"Merged with Blue Amplified \",merged)\n",
    "\n",
    "cv2.waitKey(0)\n",
    "cv2.destroyAllWindows()"
   ]
  },
  {
   "cell_type": "markdown",
   "id": "4853bca6",
   "metadata": {},
   "source": [
    "# Image Manipulation"
   ]
  },
  {
   "cell_type": "code",
   "execution_count": 16,
   "id": "97620671",
   "metadata": {},
   "outputs": [],
   "source": [
    "import cv2\n",
    "import numpy as np\n",
    "image=cv2.imread(\"input.jpg\")\n",
    "height,width=image.shape[:2]\n",
    "\n",
    "quareter_height,quareter_width=height/4,width/4\n",
    "\n",
    "T=np.float32([[1,0,quareter_width],[0,1,quareter_height]])\n",
    "\n",
    "img_translation= cv2.warpAffine(image,T,(width,height))\n",
    "#yer değiştirme\n",
    "#resimlerde yer değiştirmeyle ilgili Affine kullanıyoruz\n",
    "cv2.imshow(\"Translation\",img_translation)\n",
    "cv2.waitKey()\n",
    "cv2.destroyAllWindows()"
   ]
  },
  {
   "cell_type": "code",
   "execution_count": 17,
   "id": "3bf2d417",
   "metadata": {},
   "outputs": [
    {
     "name": "stdout",
     "output_type": "stream",
     "text": [
      "[[  1.     0.   311.25]\n",
      " [  0.     1.   207.5 ]]\n"
     ]
    }
   ],
   "source": [
    "print(T)"
   ]
  },
  {
   "cell_type": "markdown",
   "id": "c03c2466",
   "metadata": {},
   "source": [
    "# Transform Matrix"
   ]
  },
  {
   "cell_type": "code",
   "execution_count": 18,
   "id": "70980018",
   "metadata": {},
   "outputs": [],
   "source": [
    "import cv2\n",
    "import numpy as np\n",
    "\n",
    "image=cv2.imread(\"input.jpg\")\n",
    "\n",
    "height,width=image.shape[:2]\n",
    "\n",
    "rotaion_matrix=cv2.getRotationMatrix2D((width/2,height/2),45,.5)\n",
    "#Rotation the image\n",
    "rotated_image=cv2.warpAffine(image,rotaion_matrix,(width,height))\n",
    "#Rotated by warp Affine\n",
    "cv2.imshow(\"Rotated Image\",rotated_image)\n",
    "\n",
    "cv2.waitKey()\n",
    "\n",
    "cv2.destroyAllWindows()"
   ]
  },
  {
   "cell_type": "markdown",
   "id": "bcecff5a",
   "metadata": {},
   "source": [
    "## Edge Detection \n",
    "* otonom araç yol bulma\n",
    "    * edge bulmak için 3 tane yöntem var\n",
    "        * Sobel\n",
    "        * Laplacian\n",
    "        * Canny\n",
    "\n"
   ]
  },
  {
   "cell_type": "markdown",
   "id": "4284f65f",
   "metadata": {},
   "source": [
    "##### Bütün Metodlar"
   ]
  },
  {
   "cell_type": "code",
   "execution_count": 19,
   "id": "5b59cf43",
   "metadata": {},
   "outputs": [],
   "source": [
    "import cv2\n",
    "import numpy as np\n",
    "image=cv2.imread(\"input.jpg\")\n",
    "\n",
    "height,width=image.shape[:2]\n",
    "\n",
    "sobel_x=cv2.Sobel(image,cv2.CV_64F,0,1,ksize=5)\n",
    "sobel_y=cv2.Sobel(image,cv2.CV_64F,1,0,ksize=5)\n",
    "\n",
    "cv2.imshow(\"Rotated Image\",image)\n",
    "cv2.waitKey()\n",
    "cv2.imshow(\"Sobel X\",sobel_x)\n",
    "cv2.waitKey()\n",
    "cv2.imshow(\"Sobel Y\",sobel_y)\n",
    "cv2.waitKey()\n",
    "\n",
    "sobel_OR=cv2.bitwise_or(sobel_x,sobel_y)\n",
    "cv2.imshow(\"sobel_or\",sobel_OR)\n",
    "cv2.waitKey()\n",
    "\n",
    "Laplacian=cv2.Laplacian(image,cv2.CV_64F)\n",
    "cv2.imshow(\"Laplacian\",Laplacian)\n",
    "cv2.waitKey()\n",
    "\n",
    "Canny=cv2.Canny(image,50,120)\n",
    "cv2.imshow(\"Canny\",Canny)\n",
    "cv2.waitKey()\n",
    "\n",
    "cv2.destroyAllWindows()"
   ]
  },
  {
   "cell_type": "code",
   "execution_count": null,
   "id": "2d9b7eae",
   "metadata": {},
   "outputs": [],
   "source": []
  },
  {
   "cell_type": "markdown",
   "id": "6f0b586a",
   "metadata": {},
   "source": [
    "# Template matching - resimde adam bulmaca"
   ]
  },
  {
   "cell_type": "code",
   "execution_count": 20,
   "id": "d2baff8b",
   "metadata": {},
   "outputs": [],
   "source": [
    "import cv2\n",
    "import numpy as np\n",
    "\n",
    "image=cv2.imread(\"WaldoBeach.jpg\")\n",
    "\n",
    "cv2.imshow(\"Where is Waldo\",image)\n",
    "cv2.waitKey(0)\n",
    "gray=cv2.cvtColor(image,cv2.COLOR_BGR2GRAY)\n",
    "\n",
    "template=cv2.imread(\"waldo.jpg\",0)\n",
    "\n",
    "result=cv2.matchTemplate(gray,template,cv2.TM_CCOEFF)\n",
    "#matchTemplate= bu iki resimde eşleşme varmı ona bakıyor\n",
    "minVal,maxVal,minLoc,maxLoc=cv2.minMaxLoc(result)\n",
    "#resimin bulunduğu yere kare çizcek onun kenarlarını yerini bulmak için kullanıyotuz\n",
    "top_left=maxLoc\n",
    "bottom_right=(top_left[0]+50,top_left[1]+50)\n",
    "#kare için kenarlar\n",
    "cv2.rectangle(image,top_left,bottom_right,(0,0,255),5)\n",
    "#kare çizmesini istiyoruz\n",
    "cv2.imshow(\"Whereis Waldo\",image)\n",
    "cv2.waitKey(0)\n",
    "cv2.destroyAllWindows()"
   ]
  },
  {
   "cell_type": "markdown",
   "id": "ef4b3ee6",
   "metadata": {},
   "source": [
    "###### Flipping the Image - resimi döndürme "
   ]
  },
  {
   "cell_type": "code",
   "execution_count": 21,
   "id": "0d8d0c02",
   "metadata": {},
   "outputs": [],
   "source": [
    "#!pip install imutils"
   ]
  },
  {
   "cell_type": "code",
   "execution_count": 22,
   "id": "cbe2fae4",
   "metadata": {},
   "outputs": [],
   "source": [
    "import imutils\n",
    "import cv2\n",
    "\n",
    "image=cv2.imread(\"input.jpg\")\n",
    "cv2.imshow(\"Original\",image)\n",
    "\n",
    "flipped=cv2.flip(image,0)\n",
    "cv2.imshow(\"Vertical flip\",flipped)\n",
    "\n",
    "flipped=cv2.flip(image,1)\n",
    "cv2.imshow(\"Horizontal Flip\",flipped)\n",
    "\n",
    "flipped=cv2.flip(image,2)\n",
    "cv2.imshow(\"Bot Flip\",flipped)\n",
    "#Bot flip\n",
    "cv2.waitKey()\n",
    "cv2.destroyAllWindows()"
   ]
  },
  {
   "cell_type": "markdown",
   "id": "90ebebd6",
   "metadata": {},
   "source": [
    "# videolar üzerinde oynama"
   ]
  },
  {
   "cell_type": "markdown",
   "id": "dc0e77fc",
   "metadata": {},
   "source": [
    "# Live Sketch Using Webcam -- Canlı köşe bulmak"
   ]
  },
  {
   "cell_type": "code",
   "execution_count": 23,
   "id": "f9e339bf",
   "metadata": {},
   "outputs": [
    {
     "name": "stdout",
     "output_type": "stream",
     "text": [
      "Done\n"
     ]
    }
   ],
   "source": [
    "import cv2\n",
    "import numpy as np\n",
    "\n",
    "def sketch(image):\n",
    "    img_gray=cv2.cvtColor(image,cv2.COLOR_BGR2GRAY)\n",
    "    \n",
    "    \n",
    "    im_gray_blur=cv2.GaussianBlur(img_gray,(5,5),0)\n",
    "    # blursa Bulanıklaştırıyor ilerde anlıcaksın\n",
    "    canny_edges=cv2.Canny(im_gray_blur,10,70)\n",
    "    #canny kenar buluyor\n",
    "    ret,mask=cv2.threshold(canny_edges,70,255,cv2.THRESH_BINARY_INV)\n",
    "    #threshold bir sınır koymak\n",
    "    # yani bir eşik değer\n",
    "    #her üstümüzün renginde bir kenar olmasın diye\n",
    "    # bunu maske yaoıyoruz yani Threshold değeri aşarsa kenar çiziyor\n",
    "    return mask\n",
    "\n",
    "cap=cv2.VideoCapture(0)\n",
    "#0 yazınca direk bilgisayarın camerasına bağlanır\n",
    "#ama parantez içine \"örnek.mp4\" yazsanız o videoyu açar\n",
    "while True:\n",
    "    ret,frame=cap.read()\n",
    "    #frame=Görüntü halen var mı\n",
    "    #ret=kare bitti mi diye bakıyor\n",
    "    cv2.imshow(\"Out live Sketcher\",sketch(frame))\n",
    "    if cv2.waitKey(1)==13:\n",
    "        break\n",
    "\n",
    "cap.release()\n",
    "cv2.destroyAllWindows()\n",
    "print(\"Done\")"
   ]
  },
  {
   "cell_type": "markdown",
   "id": "99708775",
   "metadata": {},
   "source": [
    "# Video oynatma"
   ]
  },
  {
   "cell_type": "code",
   "execution_count": 24,
   "id": "cc2e6278",
   "metadata": {},
   "outputs": [],
   "source": [
    "import cv2\n",
    "import numpy as np\n",
    "cap=cv2.VideoCapture(\"airplanes.mp4\")\n",
    "#belli videoyu böyle açıyoruz\n",
    "while True:\n",
    "    ret,frame =cap.read()\n",
    "    #video=bi saniye 24 resimlerdir\n",
    "    #ret: bi sonraki kare\n",
    "    if ret:\n",
    "        cv2.imshow(\"Demo\",frame)\n",
    "    else:\n",
    "        break\n",
    "        \n",
    "    key=cv2.waitKey(10)\n",
    "    #mili saniye cinsinden bekleme ve bakma işi\n",
    "    if key==ord(\"q\"):\n",
    "        #durdurmak için q tuşuna basmamız gerek\n",
    "        break\n",
    "cv2.destroyAllWindows()      "
   ]
  },
  {
   "cell_type": "markdown",
   "id": "2473bec6",
   "metadata": {},
   "source": [
    "# Kendi cameranı açma"
   ]
  },
  {
   "cell_type": "code",
   "execution_count": 25,
   "id": "5251ef2b",
   "metadata": {},
   "outputs": [],
   "source": [
    "import cv2\n",
    "import numpy as np\n",
    "cap=cv2.VideoCapture(0)\n",
    "#kendi kameramızı böyle açıyoruz\n",
    "while True:\n",
    "    ret,frame =cap.read()\n",
    "    #video=bi saniye 24 resimlerdir\n",
    "    #ret: bi sonraki kare\n",
    "    if ret:\n",
    "        cv2.imshow(\"Ahmet talha Bektaş\",frame)\n",
    "    else:\n",
    "        break\n",
    "        \n",
    "    key=cv2.waitKey(10)\n",
    "    if key==ord(\"q\"):\n",
    "        break\n",
    "cv2.destroyAllWindows()      "
   ]
  },
  {
   "cell_type": "markdown",
   "id": "49e87ab8",
   "metadata": {},
   "source": [
    "# videoyu normal ,gri,hsv oynatma"
   ]
  },
  {
   "cell_type": "code",
   "execution_count": 26,
   "id": "104a6bee",
   "metadata": {},
   "outputs": [],
   "source": [
    "import cv2\n",
    "import numpy as np\n",
    "cap=cv2.VideoCapture(\"cars.mp4\")\n",
    "#belli videoyu böyle açıyoruz\n",
    "while True:\n",
    "    ret,frame =cap.read()\n",
    "    #video=bi saniye 24 resimlerdir\n",
    "    #ret: bi sonraki kare\n",
    "    if ret:\n",
    "        gray=cv2.cvtColor(frame,cv2.COLOR_BGR2GRAY)\n",
    "        hsv=cv2.cvtColor(frame,cv2.COLOR_BGR2HSV)\n",
    "        cv2.imshow(\"Demo\",frame)\n",
    "        cv2.imshow(\"Gray\",gray)\n",
    "        cv2.imshow(\"HSV\",hsv)\n",
    "    else:\n",
    "        cap.release()\n",
    "        break\n",
    "        \n",
    "    key=cv2.waitKey(100)\n",
    "    #mili saniye cinsinden bekleme ve bakma işi\n",
    "    #içindeki sayıyı büyütüükçe yavaşlıyor!\n",
    "    if key==ord(\"q\"):\n",
    "        cap.release()\n",
    "        #durdurmak için q tuşuna basmamız gerek\n",
    "        break\n",
    "cv2.destroyAllWindows()      "
   ]
  },
  {
   "cell_type": "markdown",
   "id": "585a091f",
   "metadata": {},
   "source": [
    "# kendi kameranı renklendirme ve harekete göre"
   ]
  },
  {
   "cell_type": "code",
   "execution_count": null,
   "id": "5f7f1f30",
   "metadata": {},
   "outputs": [],
   "source": [
    "import cv2\n",
    "import numpy as np\n",
    "cap=cv2.VideoCapture(0)\n",
    "#kendi kameramızı böyle açıyoruz\n",
    "ret1,frame1=cap.read()\n",
    "ret2,frame2=cap.read()\n",
    "\n",
    "while True:\n",
    "    frame1_gray=cv2.cvtColor(frame1,cv2.COLOR_BGR2GRAY)\n",
    "    #1. kareyi gri yap\n",
    "    frame2_gray=cv2.cvtColor(frame2,cv2.COLOR_BGR2GRAY)\n",
    "#2. kareyi gri yap\n",
    "    frame1_blur=cv2.GaussianBlur(frame1_gray,(21,21),0)\n",
    "    #1. kareyi bulanık yap\n",
    "    frame2_blur=cv2.GaussianBlur(frame2_gray,(21,21),0)\n",
    "    #2. kareyi bulanık yap\n",
    "    diff=cv2.absdiff(frame1_blur,frame2_blur)\n",
    "    #absoulute value diffrencese\n",
    "  \n",
    "    cv2.imshow(\"Motion\",diff)\n",
    "    frame1=frame2\n",
    "    \n",
    "    ret,frame2=cap.read()\n",
    "    if not ret:\n",
    "        cap.release()\n",
    "        break\n",
    "        \n",
    "    key=cv2.waitKey(10)\n",
    "    if key==ord(\"q\"):\n",
    "        cap.release()\n",
    "        break\n",
    "cv2.destroyAllWindows()      "
   ]
  },
  {
   "cell_type": "markdown",
   "id": "fe063d47",
   "metadata": {},
   "source": [
    "# videoyu harekete göre renklendirme"
   ]
  },
  {
   "cell_type": "code",
   "execution_count": 28,
   "id": "fc68a4c1",
   "metadata": {},
   "outputs": [],
   "source": [
    "import cv2\n",
    "import numpy as np\n",
    "cap=cv2.VideoCapture(\"cars.mp4\")\n",
    "#kendi kameramızı böyle açıyoruz\n",
    "ret1,frame1=cap.read()\n",
    "ret2,frame2=cap.read()\n",
    "\n",
    "while True:\n",
    "    frame1_gray=cv2.cvtColor(frame1,cv2.COLOR_BGR2GRAY)\n",
    "    #1. kareyi gri yap\n",
    "    frame2_gray=cv2.cvtColor(frame2,cv2.COLOR_BGR2GRAY)\n",
    "#2. kareyi gri yap\n",
    "    frame1_blur=cv2.GaussianBlur(frame1_gray,(21,21),0)\n",
    "    #1. kareyi bulanık yap\n",
    "    frame2_blur=cv2.GaussianBlur(frame2_gray,(21,21),0)\n",
    "    #2. kareyi bulanık yap\n",
    "    diff=cv2.absdiff(frame1_blur,frame2_blur)\n",
    "    #absoulute value diffrencese\n",
    "    thresh=cv2.threshold(diff,20,255,cv2.THRESH_BINARY)[1]\n",
    "    \n",
    "    final=cv2.dilate(thresh,None,iterations=2)\n",
    "    \n",
    "    \n",
    "    cv2.imshow(\"Motion\",thresh)\n",
    "    frame1=frame2\n",
    "    \n",
    "    ret,frame2=cap.read()\n",
    "    if not ret:\n",
    "        cap.release()\n",
    "        break\n",
    "        \n",
    "    key=cv2.waitKey(10)\n",
    "    if key==ord(\"q\"):\n",
    "        cap.release()\n",
    "        break\n",
    "cv2.destroyAllWindows()      "
   ]
  },
  {
   "cell_type": "markdown",
   "id": "ba8f6aa8",
   "metadata": {},
   "source": [
    "# Hareket algılama dedektör video"
   ]
  },
  {
   "cell_type": "code",
   "execution_count": 3,
   "id": "98c9396a",
   "metadata": {},
   "outputs": [],
   "source": [
    "import cv2\n",
    "import numpy as np\n",
    "cap=cv2.VideoCapture(\"airplanes.mp4\")\n",
    "#kendi kameramızı böyle açıyoruz\n",
    "ret1,frame1=cap.read()\n",
    "ret2,frame2=cap.read()\n",
    "\n",
    "while True:\n",
    "    frame1_gray=cv2.cvtColor(frame1,cv2.COLOR_BGR2GRAY)\n",
    "    #1. kareyi gri yap\n",
    "    frame2_gray=cv2.cvtColor(frame2,cv2.COLOR_BGR2GRAY)\n",
    "#2. kareyi gri yap\n",
    "    frame1_blur=cv2.GaussianBlur(frame1_gray,(21,21),0)\n",
    "    #1. kareyi bulanık yap\n",
    "    frame2_blur=cv2.GaussianBlur(frame2_gray,(21,21),0)\n",
    "    #2. kareyi bulanık yap\n",
    "    diff=cv2.absdiff(frame1_blur,frame2_blur)\n",
    "    #absoulute value diffrencese\n",
    "    thresh=cv2.threshold(diff,20,255,cv2.THRESH_BINARY)[1]\n",
    "    #bir alt değer # EŞİK DEĞER#sinek uçuyosa ötmesin\n",
    "    final=cv2.dilate(thresh,None,iterations=2)\n",
    "    \n",
    "    masked=cv2.bitwise_and(frame1,frame1,mask=final)\n",
    "    #bitwise_and=iki taraftaki 1 ve 0 ları karşılaştırıyorsunuz\n",
    "    #thresh maskesini kendi üstüne uyguluyor\n",
    "    white_pixels=np.sum(thresh) / 255\n",
    "    # burda normalize yapılmış\n",
    "    #veriyi 0 ile bir arasına indiriyor\n",
    "    rows,cols=thresh.shape\n",
    "    \n",
    "    total=rows*cols\n",
    "    if white_pixels > 0.01 * total:\n",
    "        font=cv2.FONT_HERSHEY_SIMPLEX\n",
    "        cv2.putText(frame1,\"Movement detected-Haraket Var\",(10,50),font,1,(0,0,255),2,cv2.LINE_AA)\n",
    "    \n",
    "    cv2.imshow(\"Motion\",frame1)\n",
    "    frame1=frame2\n",
    "    \n",
    "    ret,frame2=cap.read()\n",
    "    if not ret:\n",
    "        cap.release()\n",
    "        break\n",
    "        \n",
    "    key=cv2.waitKey(10)\n",
    "    if key==ord(\"q\") or key==27 :\n",
    "        cap.release()\n",
    "        break\n",
    "cv2.destroyAllWindows()      "
   ]
  },
  {
   "cell_type": "markdown",
   "id": "2866bd6b",
   "metadata": {},
   "source": [
    "#  kendi kameranda hareket algılama dedektör"
   ]
  },
  {
   "cell_type": "code",
   "execution_count": 30,
   "id": "a9ba209d",
   "metadata": {},
   "outputs": [],
   "source": [
    "import cv2\n",
    "import numpy as np\n",
    "cap=cv2.VideoCapture(0)\n",
    "#kendi kameramızı böyle açıyoruz\n",
    "ret1,frame1=cap.read()\n",
    "ret2,frame2=cap.read()\n",
    "\n",
    "while True:\n",
    "    frame1_gray=cv2.cvtColor(frame1,cv2.COLOR_BGR2GRAY)\n",
    "    #1. kareyi gri yap\n",
    "    frame2_gray=cv2.cvtColor(frame2,cv2.COLOR_BGR2GRAY)\n",
    "#2. kareyi gri yap\n",
    "    frame1_blur=cv2.GaussianBlur(frame1_gray,(21,21),0)\n",
    "    #1. kareyi bulanık yap\n",
    "    frame2_blur=cv2.GaussianBlur(frame2_gray,(21,21),0)\n",
    "    #2. kareyi bulanık yap\n",
    "    diff=cv2.absdiff(frame1_blur,frame2_blur)\n",
    "    #absoulute value diffrencese\n",
    "    thresh=cv2.threshold(diff,20,255,cv2.THRESH_BINARY)[1]\n",
    "    #bir alt değer # EŞİK DEĞER#sinek uçuyosa ötmesin\n",
    "    final=cv2.dilate(thresh,None,iterations=2)\n",
    "    \n",
    "    masked=cv2.bitwise_and(frame1,frame1,mask=thresh)\n",
    "    #bitwise_and=iki taraftaki 1 ve 0 ları karşılaştırıyorsunuz\n",
    "    white_pixels=np.sum(thresh) / 255\n",
    "    \n",
    "    rows,cols=thresh.shape\n",
    "    \n",
    "    total=rows*cols\n",
    "    if white_pixels > 0.01 * total:\n",
    "        font=cv2.FONT_HERSHEY_SIMPLEX\n",
    "        cv2.putText(frame1,\"Movement detected-Haraket Var\",(10,50),font,1,(0,0,255),2,cv2.LINE_AA)\n",
    "    \n",
    "    cv2.imshow(\"Motion\",frame1)\n",
    "    frame1=frame2\n",
    "    \n",
    "    ret,frame2=cap.read()\n",
    "    if not ret:\n",
    "        cap.release()\n",
    "        break\n",
    "        \n",
    "    key=cv2.waitKey(10)\n",
    "    if key==ord(\"q\") or key==27 :\n",
    "        cap.release()\n",
    "        break\n",
    "cv2.destroyAllWindows()      "
   ]
  },
  {
   "cell_type": "markdown",
   "id": "7c59526f",
   "metadata": {},
   "source": [
    "# Countours in OpenCV\n",
    "- finding countours\n",
    "- drawing countours"
   ]
  },
  {
   "cell_type": "code",
   "execution_count": 4,
   "id": "f50c961b",
   "metadata": {},
   "outputs": [
    {
     "name": "stdout",
     "output_type": "stream",
     "text": [
      "Number of Contours found = 29\n"
     ]
    }
   ],
   "source": [
    "import cv2\n",
    "import numpy as np\n",
    "\n",
    "image=cv2.imread(\"bunchofshapes.jpg\")\n",
    "cv2.imshow(\"Input Image\",image)\n",
    "cv2.waitKey(0)\n",
    "\n",
    "gray=cv2.cvtColor(image,cv2.COLOR_BGR2GRAY)\n",
    "#karartıyoruz\n",
    "edged=cv2.Canny(gray,30,200)\n",
    "#canny ile köşeleri buluyoruz\n",
    "cv2.imshow(\"Canny Edges\",edged)\n",
    "cv2.waitKey(0)\n",
    "\n",
    "contours,hierarchy=cv2.findContours(edged,cv2.RETR_EXTERNAL,cv2.CHAIN_APPROX_NONE)\n",
    "cv2.imshow(\"Canny Edges After Countouring\",edged)\n",
    "#Cannylenmiş resim\n",
    "cv2.waitKey(0)\n",
    "\n",
    "print(\"Number of Contours found = \"+str(len(contours)))\n",
    "\n",
    "#Draw all countours\n",
    "#Use \"-1\" as the 3rd parametrer to draw all\n",
    "cv2.drawContours(image,contours,-1,(0,255,0),thickness=2)\n",
    "#sınırları  image üstüne koyuyoruz, kalınlık 2\n",
    "cv2.imshow(\"Contours\",image)\n",
    "#üstüne sınırlar çizilmiş image i gösteriyoruz\n",
    "cv2.waitKey(0)\n",
    "cv2.destroyAllWindows()\n"
   ]
  },
  {
   "cell_type": "markdown",
   "id": "6f24d225",
   "metadata": {},
   "source": [
    "# cv2.findContours()"
   ]
  },
  {
   "cell_type": "code",
   "execution_count": 34,
   "id": "51af0b0a",
   "metadata": {},
   "outputs": [
    {
     "ename": "AttributeError",
     "evalue": "module 'cv2' has no attribute 'findCountours'",
     "output_type": "error",
     "traceback": [
      "\u001b[1;31m---------------------------------------------------------------------------\u001b[0m",
      "\u001b[1;31mAttributeError\u001b[0m                            Traceback (most recent call last)",
      "\u001b[1;32m~\\AppData\\Local\\Temp/ipykernel_16128/216804446.py\u001b[0m in \u001b[0;36m<module>\u001b[1;34m\u001b[0m\n\u001b[1;32m----> 1\u001b[1;33m \u001b[0mcv2\u001b[0m\u001b[1;33m.\u001b[0m\u001b[0mfindCountours\u001b[0m\u001b[1;33m(\u001b[0m\u001b[0mimage\u001b[0m\u001b[1;33m,\u001b[0m\u001b[0mRetrivalMode\u001b[0m\u001b[1;33m,\u001b[0m\u001b[0mApproximationMethod\u001b[0m\u001b[1;33m)\u001b[0m\u001b[1;33m\u001b[0m\u001b[1;33m\u001b[0m\u001b[0m\n\u001b[0m",
      "\u001b[1;31mAttributeError\u001b[0m: module 'cv2' has no attribute 'findCountours'"
     ]
    }
   ],
   "source": [
    "cv2.findContours(image,RetrivalMode,ApproximationMethod)"
   ]
  },
  {
   "cell_type": "code",
   "execution_count": null,
   "id": "94219216",
   "metadata": {},
   "outputs": [],
   "source": [
    "import cv2\n",
    "import numpy as np\n",
    "\n",
    "image = cv2.imread('sudoku.png')\n",
    "cv2.imshow('original',image)\n",
    "cv2.waitKey(0)\n",
    "\n",
    "gray = cv2.cvtColor(image,cv2.COLOR_BGR2GRAY)\n",
    "edges = cv2.Canny(gray,100,170,apertureSize = 3)\n",
    "lines = cv2.HoughLines(edges , 1 , np.pi / 180 ,240)\n",
    "#theta 1 derece from 180 derece\n",
    "for line in lines:\n",
    "    rho,theta = line[0]\n",
    "    a = np.cos(theta)\n",
    "    b = np.sin(theta)\n",
    "    x0 = a * rho\n",
    "    y0 = b * rho\n",
    "    x1 = int(x0 + 1000 * (-b))\n",
    "    y1 = int(y0 + 1000 * (a))\n",
    "    x2 = int(x0 - 1000 * (-b))\n",
    "    y2 = int(y0 - 1000 * (-b))\n",
    "    cv2.line(image , (x1 , y1), (x2 , y2), (255,0,0), 2)\n",
    "    \n",
    "    \n",
    "cv2.imshow('Hough Lines',image)\n",
    "cv2.waitKey(0)\n",
    "cv2.destroyAllWindows()"
   ]
  },
  {
   "cell_type": "markdown",
   "id": "85db383b",
   "metadata": {},
   "source": [
    "## circle tanıma"
   ]
  },
  {
   "cell_type": "code",
   "execution_count": 1,
   "id": "286ef005",
   "metadata": {},
   "outputs": [],
   "source": [
    "import cv2\n",
    "import numpy as np\n",
    "\n",
    "image = cv2.imread('opencv.jpg',88)\n",
    "gray = cv2.cvtColor(image,cv2.COLOR_BGR2GRAY)\n",
    "\n",
    "blur = cv2.medianBlur(gray,5)\n",
    "#circle ları buluyor\n",
    "circles = cv2.HoughCircles(blur, cv2.HOUGH_GRADIENT, 1.5,20)\n",
    "circles = np.uint16(np.around(circles))\n",
    "\n",
    "for i in circles[0,:]:\n",
    "    cv2.circle(image, (i[0],i[1]),i[2],(0,255,0),2 )\n",
    "    # circleları image e yerleştiriyoruz\n",
    "    cv2.circle(image, (i[0],i[1]), 2 , (0,255,0), 5 )\n",
    "    # circleları image e yerleştiriyoruz\n",
    "\n",
    "\n",
    "cv2.imshow('detected circles',image)\n",
    "cv2.waitKey(0)\n",
    "cv2.destroyAllWindows()"
   ]
  },
  {
   "cell_type": "markdown",
   "id": "ba3ec7b0",
   "metadata": {},
   "source": [
    "# Blob Detection"
   ]
  },
  {
   "cell_type": "code",
   "execution_count": 5,
   "id": "b5ab25fc",
   "metadata": {},
   "outputs": [],
   "source": [
    "import cv2\n",
    "import numpy as np;\n",
    "\n",
    "image = cv2.imread('Sunflowers.jpg')\n",
    "#aşağıdaki kod ile buluyoruz\n",
    "detector = cv2.SimpleBlobDetector_create()\n",
    "#blob detect. blob buluyoruz aşağıda\n",
    "keypoints = detector.detect(image)\n",
    "\n",
    "\n",
    "#size of circle\n",
    "blank = np.zeros((1,1))\n",
    "blobs = cv2.drawKeypoints(image, keypoints, blank, (255,0,0), cv2.DRAW_MATCHES_FLAGS_DEFAULT)\n",
    "#image in üstüne blobları yazdırıyoruz\n",
    "cv2.imshow('Blobs',blobs)\n",
    "cv2.waitKey(0)\n",
    "cv2.destroyAllWindows()"
   ]
  },
  {
   "cell_type": "markdown",
   "id": "816386e0",
   "metadata": {},
   "source": [
    "# Face and eye Detection with HAAR Cascade Classifiers"
   ]
  },
  {
   "cell_type": "markdown",
   "id": "a816e874",
   "metadata": {},
   "source": [
    "# Face"
   ]
  },
  {
   "cell_type": "code",
   "execution_count": 3,
   "id": "367cbe64",
   "metadata": {},
   "outputs": [
    {
     "name": "stderr",
     "output_type": "stream",
     "text": [
      "<>:16: SyntaxWarning: \"is\" with a literal. Did you mean \"==\"?\n",
      "<>:16: SyntaxWarning: \"is\" with a literal. Did you mean \"==\"?\n",
      "C:\\Users\\ahmet\\AppData\\Local\\Temp/ipykernel_6928/1371704361.py:16: SyntaxWarning: \"is\" with a literal. Did you mean \"==\"?\n",
      "  if faces is ():\n"
     ]
    }
   ],
   "source": [
    "import cv2\n",
    "import numpy as np\n",
    "\n",
    "#Yüztanıma sistemini  face_classifier değişskenine yükledik\n",
    "face_classifier = cv2.CascadeClassifier('haarcascade_frontalface_default.xml')\n",
    "\n",
    "#kendi fotomu yükledim\n",
    "image = cv2.imread('SIFAT.jpeg',88)\n",
    "#Griye çevirdik\n",
    "gray = cv2.cvtColor(image,cv2.COLOR_BGR2GRAY)\n",
    "\n",
    "#Classifier yüzü tuple olarak atıyor\n",
    "#Yüz tanıma sistemi ni gri de çalışması ayarlandı\n",
    "faces = face_classifier.detectMultiScale(gray, 1.3,5)\n",
    "\n",
    "if faces is ():\n",
    "    print('No face')\n",
    "\n",
    "for(x,y,w,h) in faces:\n",
    "    cv2.rectangle(image , (x,y), (x+w,y+h), (127,0,255),2)\n",
    "    #Yüzümü bulduğunu resimde yüzümü bulup Yüzüme dikdötrgen atadı kordşnatları bunlar\n",
    "    cv2.imshow('Face Detection',image)\n",
    "    cv2.waitKey(0)\n",
    "cv2.destroyAllWindows()\n",
    "    \n"
   ]
  },
  {
   "cell_type": "markdown",
   "id": "b44f1d62",
   "metadata": {},
   "source": [
    "## -  Eye and face"
   ]
  },
  {
   "cell_type": "code",
   "execution_count": 4,
   "id": "49f9fdc8",
   "metadata": {},
   "outputs": [
    {
     "name": "stderr",
     "output_type": "stream",
     "text": [
      "<>:11: SyntaxWarning: \"is\" with a literal. Did you mean \"==\"?\n",
      "<>:11: SyntaxWarning: \"is\" with a literal. Did you mean \"==\"?\n",
      "C:\\Users\\ahmet\\AppData\\Local\\Temp/ipykernel_6928/3321975487.py:11: SyntaxWarning: \"is\" with a literal. Did you mean \"==\"?\n",
      "  if faces is ():\n"
     ]
    }
   ],
   "source": [
    "import cv2\n",
    "import numpy as np\n",
    "\n",
    "face_classifier = cv2.CascadeClassifier('haarcascade_frontalface_default.xml')\n",
    "eye_classifier = cv2.CascadeClassifier('haarcascade_eye.xml')\n",
    "\n",
    "image = cv2.imread('SIFAT.jpeg',88)\n",
    "gray = cv2.cvtColor(image,cv2.COLOR_BGR2GRAY)\n",
    "faces = face_classifier.detectMultiScale(gray, 1.3,5)\n",
    "\n",
    "if faces is ():\n",
    "    print('No face')\n",
    "\n",
    "for(x,y,w,h) in faces:\n",
    "    cv2.rectangle(image , (x,y), (x+w,y+h), (127,0,255),2)\n",
    "    cv2.imshow('img',image)    \n",
    "    cv2.waitKey(0)\n",
    "    roi_gray = gray[y:y+h, x:x+w]\n",
    "    roi_color = image[y:y+h, x:x+w]\n",
    "    eyes = eye_classifier.detectMultiScale(roi_gray)\n",
    "    for (ex, ey, ew, eh) in eyes:\n",
    "        cv2.rectangle(roi_color , (ex,ey), (ex+ew,ey+eh), (255,255,0),2)\n",
    "        cv2.imshow('img',image) \n",
    "        cv2.waitKey(0)\n",
    "        \n",
    "cv2.destroyAllWindows()"
   ]
  },
  {
   "cell_type": "markdown",
   "id": "1e707d55",
   "metadata": {},
   "source": [
    "#### Lİve face & eye detection"
   ]
  },
  {
   "cell_type": "code",
   "execution_count": 5,
   "id": "607ac97a",
   "metadata": {},
   "outputs": [
    {
     "name": "stderr",
     "output_type": "stream",
     "text": [
      "<>:13: SyntaxWarning: \"is\" with a literal. Did you mean \"==\"?\n",
      "<>:13: SyntaxWarning: \"is\" with a literal. Did you mean \"==\"?\n",
      "C:\\Users\\ahmet\\AppData\\Local\\Temp/ipykernel_6928/3738790306.py:13: SyntaxWarning: \"is\" with a literal. Did you mean \"==\"?\n",
      "  if faces is ():\n"
     ]
    }
   ],
   "source": [
    "import cv2\n",
    "import numpy as np\n",
    "from time import sleep\n",
    "\n",
    "face_classifier = cv2.CascadeClassifier('haarcascade_frontalface_default.xml')\n",
    "eye_classifier = cv2.CascadeClassifier('haarcascade_eye.xml')\n",
    "\n",
    "def face_detector(image, size = 0.5):\n",
    "    \n",
    "    gray = cv2.cvtColor(image,cv2.COLOR_BGR2GRAY)\n",
    "    faces = face_classifier.detectMultiScale(gray, 1.3,5)\n",
    "    \n",
    "    if faces is ():\n",
    "        return image\n",
    "    \n",
    "    for(x,y,w,h) in faces:\n",
    "        x = x-50    \n",
    "        w = w+50\n",
    "        y = y-50\n",
    "        h = h+50\n",
    "        cv2.rectangle(image , (x,y), (x+w,y+h), (255,0,2),2)\n",
    "        roi_gray = gray[y:y+h, x:x+w]\n",
    "        roi_color = image[y:y+h, x:x+w]\n",
    "        eyes = eye_classifier.detectMultiScale(roi_gray)\n",
    "        sleep(.05)\n",
    "        \n",
    "        for (ex, ey, ew, eh) in eyes:\n",
    "            cv2.rectangle(roi_color , (ex,ey), (ex+ew,ey+eh), (255,255,0),2)\n",
    "            \n",
    "    image = cv2.flip(image,1)\n",
    "    return image\n",
    "\n",
    "cap = cv2.VideoCapture(0)\n",
    "\n",
    "while True:\n",
    "    \n",
    "    ret, frame = cap.read()\n",
    "    cv2.imshow('our face detection', face_detector(frame))\n",
    "    if cv2.waitKey(1) == 13 :\n",
    "        break\n",
    "cap.release()\n",
    "\n",
    "cv2.destroyAllWindows()  \n",
    "    \n",
    "\n",
    "\n"
   ]
  },
  {
   "cell_type": "code",
   "execution_count": 60,
   "id": "e7b22edd",
   "metadata": {
    "collapsed": true
   },
   "outputs": [
    {
     "name": "stdout",
     "output_type": "stream",
     "text": [
      "Collecting opencv-contrib-python\n",
      "  Using cached opencv_contrib_python-4.6.0.66-cp36-abi3-win_amd64.whl (42.5 MB)\n",
      "Requirement already satisfied: numpy>=1.17.3 in c:\\users\\ahmet\\anaconda3\\lib\\site-packages (from opencv-contrib-python) (1.20.3)\n",
      "Installing collected packages: opencv-contrib-python\n",
      "Successfully installed opencv-contrib-python-4.6.0.66\n"
     ]
    }
   ],
   "source": [
    "#!pip install opencv-contrib-python --user"
   ]
  },
  {
   "cell_type": "markdown",
   "id": "204d0b33",
   "metadata": {},
   "source": [
    "# Yüz tanıma"
   ]
  },
  {
   "cell_type": "markdown",
   "id": "68f3136a",
   "metadata": {},
   "source": [
    "#### Yüz Tanıtma"
   ]
  },
  {
   "cell_type": "code",
   "execution_count": 6,
   "id": "c2beda22",
   "metadata": {},
   "outputs": [
    {
     "name": "stderr",
     "output_type": "stream",
     "text": [
      "C:\\Users\\ahmet\\AppData\\Local\\Temp/ipykernel_6928/1665802746.py:10: DeprecationWarning: elementwise comparison failed; this will raise an error in the future.\n",
      "  if faces == ():\n"
     ]
    },
    {
     "name": "stdout",
     "output_type": "stream",
     "text": [
      "Face not found\n",
      "Face not found\n",
      "Face not found\n",
      "Face not found\n",
      "Face not found\n",
      "Face not found\n",
      "Face not found\n",
      "Face not found\n",
      "Face not found\n",
      "Face not found\n",
      "Face not found\n",
      "Face not found\n",
      "Face not found\n",
      "Face not found\n",
      "Face not found\n",
      "Face not found\n",
      "Face not found\n",
      "Face not found\n",
      "Face not found\n",
      "Face not found\n",
      "Face not found\n",
      "Face not found\n",
      "Face not found\n",
      "Face not found\n",
      "Face not found\n",
      "Face not found\n",
      "Face not found\n",
      "Face not found\n",
      "Face not found\n",
      "Face not found\n",
      "Face not found\n",
      "Face not found\n",
      "Face not found\n",
      "Face not found\n",
      "Face not found\n",
      "Face not found\n",
      "Face not found\n",
      "Face not found\n",
      "Face not found\n",
      "Face not found\n",
      "Face not found\n",
      "Face not found\n",
      "Face not found\n",
      "Face not found\n",
      "Face not found\n",
      "Face not found\n",
      "Face not found\n",
      "Face not found\n",
      "Face not found\n",
      "Face not found\n",
      "Face not found\n",
      "Face not found\n",
      "Face not found\n",
      "Face not found\n",
      "Face not found\n",
      "Face not found\n",
      "Face not found\n",
      "Face not found\n",
      "Face not found\n",
      "Face not found\n",
      "Face not found\n",
      "Face not found\n",
      "Face not found\n",
      "Face not found\n",
      "Face not found\n",
      "Face not found\n",
      "Face not found\n",
      "Face not found\n",
      "Face not found\n",
      "Face not found\n",
      "Face not found\n",
      "Face not found\n",
      "Face not found\n",
      "Face not found\n",
      "Face not found\n",
      "Face not found\n",
      "Face not found\n",
      "Face not found\n",
      "Face not found\n",
      "Face not found\n",
      "Face not found\n",
      "Face not found\n",
      "Face not found\n",
      "Face not found\n",
      "Face not found\n",
      "Face not found\n",
      "Face not found\n",
      "Face not found\n",
      "Face not found\n",
      "Face not found\n",
      "Face not found\n",
      "Face not found\n",
      "Face not found\n",
      "Face not found\n",
      "Face not found\n",
      "Face not found\n",
      "Face not found\n",
      "Face not found\n",
      "Face not found\n",
      "Face not found\n",
      "Face not found\n",
      "Face not found\n",
      "Face not found\n",
      "Face not found\n",
      "Face not found\n",
      "Face not found\n",
      "Face not found\n",
      "Face not found\n",
      "Face not found\n",
      "Face not found\n",
      "Face not found\n",
      "Face not found\n",
      "Face not found\n",
      "Face not found\n",
      "Face not found\n",
      "Face not found\n",
      "Face not found\n",
      "Face not found\n",
      "Face not found\n",
      "Samples collected\n"
     ]
    }
   ],
   "source": [
    "import cv2\n",
    "import numpy as np\n",
    "\n",
    "face_classifier = cv2.CascadeClassifier('haarcascade_frontalface_default.xml')\n",
    "\n",
    "def face_extractor(img):\n",
    "    gray = cv2.cvtColor(img,cv2.COLOR_BGR2GRAY)\n",
    "    faces = face_classifier.detectMultiScale(gray, 1.3,5)\n",
    "    \n",
    "    if faces == ():\n",
    "        return None\n",
    "    \n",
    "    for(x,y,w,h) in faces:\n",
    "        cropped_face = img[y:y+h,x:x+w]\n",
    "        \n",
    "    return cropped_face\n",
    "\n",
    "cap = cv2.VideoCapture(0)\n",
    "count = 0\n",
    "\n",
    "while True:\n",
    "    ret, frame = cap.read()\n",
    "    if face_extractor(frame) is not None :\n",
    "        count += 1\n",
    "        face = cv2.resize(face_extractor(frame),(200,200))\n",
    "        face = cv2.cvtColor(face,cv2.COLOR_BGR2GRAY)\n",
    "        \n",
    "        file_name_path = './faces/Ahmet/' + str(count) + '.jpg'\n",
    "        cv2.imwrite(file_name_path,face)\n",
    "        \n",
    "        cv2.putText(face,str(count),(50,50),cv2.FONT_HERSHEY_COMPLEX, 1, (0,255,0),2)\n",
    "        cv2.imshow('Face Cropper',face)\n",
    "        \n",
    "    else:\n",
    "        print('Face not found')\n",
    "        pass\n",
    "    \n",
    "    if cv2.waitKey(1) == 13 or count==100:\n",
    "        break\n",
    "        \n",
    "cap.release()\n",
    "    \n",
    "cv2.destroyAllWindows()  \n",
    "print('Samples collected')\n",
    "    "
   ]
  },
  {
   "cell_type": "markdown",
   "id": "7a1a2e70",
   "metadata": {},
   "source": [
    "### Data Augmentation \n",
    "###### araştır ahmet !"
   ]
  },
  {
   "cell_type": "code",
   "execution_count": null,
   "id": "daeeb260",
   "metadata": {},
   "outputs": [],
   "source": []
  },
  {
   "cell_type": "markdown",
   "id": "5927b502",
   "metadata": {},
   "source": [
    "#### Model eğitmek\n"
   ]
  },
  {
   "cell_type": "code",
   "execution_count": 7,
   "id": "06e552f6",
   "metadata": {},
   "outputs": [
    {
     "name": "stdout",
     "output_type": "stream",
     "text": [
      "Model Trained\n"
     ]
    }
   ],
   "source": [
    "import cv2\n",
    "import numpy as np\n",
    "from os import listdir\n",
    "from os.path import isfile, join\n",
    "\n",
    "data_path = './faces/Ahmet/'\n",
    "onlyfiles = [f for f in listdir(data_path) if isfile(join(data_path,f))]\n",
    "\n",
    "Training_Data, Labels = [],[]\n",
    "\n",
    "for i, files in enumerate(onlyfiles):\n",
    "    image_path = data_path + onlyfiles[i]\n",
    "    images = cv2.imread(image_path, cv2.IMREAD_GRAYSCALE)\n",
    "    Training_Data.append(np.asarray(images, dtype = np.uint8))\n",
    "    Labels.append(i)\n",
    "    \n",
    "Labels = np.asarray(Labels, dtype = np.int32)\n",
    "model = cv2.face.LBPHFaceRecognizer_create()\n",
    "\n",
    "model.train(np.asarray(Training_Data),np.asarray(Labels))\n",
    "\n",
    "print('Model Trained')\n",
    "    "
   ]
  },
  {
   "cell_type": "markdown",
   "id": "191ceabf",
   "metadata": {},
   "source": [
    "#### Sen Sen misin??"
   ]
  },
  {
   "cell_type": "code",
   "execution_count": null,
   "id": "5b74f6e8",
   "metadata": {},
   "outputs": [
    {
     "name": "stderr",
     "output_type": "stream",
     "text": [
      "<>:10: SyntaxWarning: \"is\" with a literal. Did you mean \"==\"?\n",
      "<>:10: SyntaxWarning: \"is\" with a literal. Did you mean \"==\"?\n",
      "C:\\Users\\ahmet\\AppData\\Local\\Temp/ipykernel_6928/2848844317.py:10: SyntaxWarning: \"is\" with a literal. Did you mean \"==\"?\n",
      "  if faces is ():\n"
     ]
    }
   ],
   "source": [
    "import cv2\n",
    "import numpy as np\n",
    "\n",
    "face_classifier = cv2.CascadeClassifier('HAARCASCADE/haarcascade_frontalface_default.xml')\n",
    "\n",
    "def face_extractor(img, size = 0.5):\n",
    "    gray = cv2.cvtColor(img,cv2.COLOR_BGR2GRAY)\n",
    "    faces = face_classifier.detectMultiScale(gray, 1.3,5)\n",
    "    \n",
    "    if faces is ():\n",
    "        return img,[]\n",
    "    \n",
    "    for(x,y,w,h) in faces:\n",
    "        cv2.rectangle(img , (x,y), (x+w,y+h), (0,255,255),2)\n",
    "        roi = img[y:y+h, x:x+w]\n",
    "        roi = cv2.resize(roi,(200,200))\n",
    "    return img,roi\n",
    "\n",
    "cap = cv2.VideoCapture(0)\n",
    "\n",
    "while True:\n",
    "    \n",
    "    ret, frame = cap.read()\n",
    "    image, face = face_extractor(frame)\n",
    "    \n",
    "    try:\n",
    "        face = cv2.cvtColor(face ,cv2.COLOR_BGR2GRAY)\n",
    "        \n",
    "        results = model.predict(face)\n",
    "        \n",
    "        if results[1] <500:\n",
    "            confidence = int(100 * (1-(results[1])/400))\n",
    "            display_string = str(confidence) + '% Confident it is Backtash'\n",
    "                             \n",
    "        cv2.putText(image, display_string, (100,120), cv2.FONT_HERSHEY_COMPLEX, 1, (255,120,150),2)\n",
    "        \n",
    "        if confidence > 75:\n",
    "            cv2.putText(image, 'Unlocked ', (250,450), cv2.FONT_HERSHEY_COMPLEX, 1, (0,255,0),2)\n",
    "            cv2.imshow('Face Recognition', image)\n",
    "                             \n",
    "        else:\n",
    "            cv2.putText(image, 'Locked ', (250,450), cv2.FONT_HERSHEY_COMPLEX, 1, (0,255,0),2)                \n",
    "            cv2.imshow('Face Recognition', image)\n",
    "    \n",
    "    except:\n",
    "        cv2.putText(image, 'No Face Found ', (220,120), cv2.FONT_HERSHEY_COMPLEX, 1, (0,255,0),2)\n",
    "        cv2.putText(image, 'Locked ', (250,450), cv2.FONT_HERSHEY_COMPLEX, 1, (0,255,0),2)              \n",
    "        cv2.imshow('Face Recognition', image)            \n",
    "        \n",
    "    if cv2.waitKey(1) ==13:\n",
    "        cap.release()\n",
    "        break\n",
    "                             \n",
    "cap.release()                          \n",
    "cv2.destroyAllWindows()             "
   ]
  },
  {
   "cell_type": "code",
   "execution_count": null,
   "id": "6d00f6e0",
   "metadata": {},
   "outputs": [],
   "source": []
  },
  {
   "cell_type": "code",
   "execution_count": null,
   "id": "f87be685",
   "metadata": {},
   "outputs": [],
   "source": []
  }
 ],
 "metadata": {
  "kernelspec": {
   "display_name": "Python 3 (ipykernel)",
   "language": "python",
   "name": "python3"
  },
  "language_info": {
   "codemirror_mode": {
    "name": "ipython",
    "version": 3
   },
   "file_extension": ".py",
   "mimetype": "text/x-python",
   "name": "python",
   "nbconvert_exporter": "python",
   "pygments_lexer": "ipython3",
   "version": "3.9.7"
  }
 },
 "nbformat": 4,
 "nbformat_minor": 5
}
